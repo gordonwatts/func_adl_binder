{
 "cells": [
  {
   "cell_type": "markdown",
   "metadata": {},
   "source": [
    "# func-adl Hello World\n",
    "\n",
    "We will make a plot of Jet $p_T$ from an ATLAS xAOD dataset.\n",
    "\n",
    "## Prerequisits\n",
    "\n",
    "1. You need access to a func-adl server. See the definition of `endpoint` below.\n",
    "2. The python package `funcitonal-adl` must be installed."
   ]
  },
  {
   "cell_type": "code",
   "execution_count": 1,
   "metadata": {},
   "outputs": [],
   "source": [
    "from adl_func_client.event_dataset import EventDataset\n",
    "from adl_func_client.use_exe_func_adl_server import use_exe_func_adl_server\n",
    "import matplotlib.pyplot as plt"
   ]
  },
  {
   "cell_type": "markdown",
   "metadata": {},
   "source": [
    "We need an end point for the analysis server. This is a test server setup at the University of Washington. It goes up and down often: contact gwatts@uw.edu for information if it isn't running!"
   ]
  },
  {
   "cell_type": "code",
   "execution_count": 2,
   "metadata": {},
   "outputs": [],
   "source": [
    "endpoint = 'http://tev10.phys.washington.edu'"
   ]
  },
  {
   "cell_type": "markdown",
   "metadata": {},
   "source": [
    "## Extracting Jet $p_T$"
   ]
  },
  {
   "cell_type": "markdown",
   "metadata": {},
   "source": [
    "We define the dataset. The URI scheme `localds` tells the system that we want to go after a dataset from the GRID, but downloaded locally."
   ]
  },
  {
   "cell_type": "code",
   "execution_count": 3,
   "metadata": {},
   "outputs": [],
   "source": [
    "ds = EventDataset('localds://mc16_13TeV.311309.MadGraphPythia8EvtGen_A14NNPDF31LO_HSS_LLP_mH125_mS5_ltlow.deriv.DAOD_EXOT15.e7270_e5984_s3234_r9364_r9315_p3795')"
   ]
  },
  {
   "cell_type": "markdown",
   "metadata": {},
   "source": [
    "Next, we build the query. At the end we get a future that will contain the PandasDF with the jet $p_T$'s. In ATLAS jet $p_T$'s are in units of MeV, so we convert them to more sensible GeV."
   ]
  },
  {
   "cell_type": "code",
   "execution_count": 4,
   "metadata": {},
   "outputs": [],
   "source": [
    "df_future = ds \\\n",
    "        .SelectMany('lambda e: e.Jets(\"AntiKt4EMTopoJets\")') \\\n",
    "        .Select('lambda j: j.pt()/1000.0') \\\n",
    "        .AsPandasDF('JetPt')"
   ]
  },
  {
   "cell_type": "markdown",
   "metadata": {},
   "source": [
    "The final thing is to turn the future into something real. We tell it to use the `func-adl` server as a back end. This can take a little while:\n",
    "\n",
    "- If the xAOD's haven't been downloaded, they must be.\n",
    "- If the JetPt's have to be extracted from the xAOD's, then that must occur."
   ]
  },
  {
   "cell_type": "code",
   "execution_count": 5,
   "metadata": {},
   "outputs": [],
   "source": [
    "df = await df_future.future_value(executor=lambda a: use_exe_func_adl_server(a, node=endpoint))"
   ]
  },
  {
   "cell_type": "markdown",
   "metadata": {},
   "source": [
    "And plot the $p_T$."
   ]
  },
  {
   "cell_type": "code",
   "execution_count": 6,
   "metadata": {},
   "outputs": [
    {
     "data": {
      "image/png": "[encoded data removed]",
      "text/plain": [
       "<Figure size 432x288 with 1 Axes>"
      ]
     },
     "metadata": {
      "needs_background": "light"
     },
     "output_type": "display_data"
    }
   ],
   "source": [
    "plt.hist(df.JetPt, bins=50,range=(0,200))\n",
    "plt.xlabel('Jet $p_T$ [GeV]')\n",
    "plt.show()"
   ]
  },
  {
   "cell_type": "markdown",
   "metadata": {},
   "source": [
    "As a sidenote, the jupyter-lab server and notebook were run from the airplane (the endpoint is located in a small server room at the University of Washington). Since the amount of data being shipped back is so small, this worked just fine."
   ]
  },
  {
   "cell_type": "code",
   "execution_count": null,
   "metadata": {},
   "outputs": [],
   "source": []
  }
 ],
 "metadata": {
  "kernelspec": {
   "display_name": "Python 3",
   "language": "python",
   "name": "python3"
  },
  "language_info": {
   "codemirror_mode": {
    "name": "ipython",
    "version": 3
   },
   "file_extension": ".py",
   "mimetype": "text/x-python",
   "name": "python",
   "nbconvert_exporter": "python",
   "pygments_lexer": "ipython3",
   "version": "3.7.3"
  }
 },
 "nbformat": 4,
 "nbformat_minor": 4
}
